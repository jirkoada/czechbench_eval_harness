{
 "cells": [
  {
   "cell_type": "code",
   "execution_count": 7,
   "metadata": {},
   "outputs": [],
   "source": [
    "from datasets import load_from_disk\n",
    "import os\n",
    "import json\n",
    "test = load_from_disk(\"/home/p23131/lm-evaluation-harness/lm_eval/tasks/mmlu_cs/data/test\")\n"
   ]
  },
  {
   "cell_type": "code",
   "execution_count": 8,
   "metadata": {},
   "outputs": [
    {
     "data": {
      "text/plain": [
       "Dataset({\n",
       "    features: ['question', 'subject', 'choices', 'answer'],\n",
       "    num_rows: 14042\n",
       "})"
      ]
     },
     "execution_count": 8,
     "metadata": {},
     "output_type": "execute_result"
    }
   ],
   "source": [
    "test"
   ]
  },
  {
   "cell_type": "code",
   "execution_count": 9,
   "metadata": {},
   "outputs": [
    {
     "name": "stdout",
     "output_type": "stream",
     "text": [
      "Splits saved successfully in the 'test' directory.\n"
     ]
    }
   ],
   "source": [
    "# Ensure the output directory exists\n",
    "output_dir = \"test\"\n",
    "os.makedirs(output_dir, exist_ok=True)\n",
    "\n",
    "# Create a dictionary to hold the data for each subject\n",
    "subject_splits = {}\n",
    "\n",
    "# Iterate over the dataset and split based on subjects\n",
    "for example in test:\n",
    "    subject = example['subject']\n",
    "    if subject not in subject_splits:\n",
    "        subject_splits[subject] = []\n",
    "    subject_splits[subject].append(example)\n",
    "\n",
    "# Save each split as a separate JSON file\n",
    "for subject, examples in subject_splits.items():\n",
    "    file_path = os.path.join(output_dir, f\"{subject}.json\")\n",
    "    with open(file_path, 'w', encoding='utf-8') as f:\n",
    "        json.dump(examples, f, ensure_ascii=False, indent=4)\n",
    "\n",
    "print(\"Splits saved successfully in the 'test' directory.\")"
   ]
  }
 ],
 "metadata": {
  "kernelspec": {
   "display_name": "benchmarks",
   "language": "python",
   "name": "python3"
  },
  "language_info": {
   "codemirror_mode": {
    "name": "ipython",
    "version": 3
   },
   "file_extension": ".py",
   "mimetype": "text/x-python",
   "name": "python",
   "nbconvert_exporter": "python",
   "pygments_lexer": "ipython3",
   "version": "3.11.9"
  }
 },
 "nbformat": 4,
 "nbformat_minor": 2
}
